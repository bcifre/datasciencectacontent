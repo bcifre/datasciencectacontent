{
  "nbformat": 4,
  "nbformat_minor": 0,
  "metadata": {
    "colab": {
      "name": "Diccionario.ipynb",
      "provenance": [],
      "authorship_tag": "ABX9TyOOmRcquYVMc4W2b1jT3Fwk",
      "include_colab_link": true
    },
    "kernelspec": {
      "name": "python3",
      "display_name": "Python 3"
    },
    "language_info": {
      "name": "python"
    }
  },
  "cells": [
    {
      "cell_type": "markdown",
      "metadata": {
        "id": "view-in-github",
        "colab_type": "text"
      },
      "source": [
        "<a href=\"https://colab.research.google.com/github/bcifre/datasciencectacontent/blob/master/1.01%20Diccionario.ipynb\" target=\"_parent\"><img src=\"https://colab.research.google.com/assets/colab-badge.svg\" alt=\"Open In Colab\"/></a>"
      ]
    },
    {
      "cell_type": "code",
      "metadata": {
        "colab": {
          "base_uri": "https://localhost:8080/"
        },
        "id": "X-DSVQAng5Td",
        "outputId": "4869768a-3248-49b6-9c90-e5c50af59d60"
      },
      "source": [
        "'Creamos una lista denominada algorithm' \n",
        "algorithm = ['Linear Regression','Logistic Regression','RandomForest','a3c']\n",
        "'Creamos una lista denominada learning'\n",
        "learning = ['Supervised', 'Supervised', 'Supervised','Reinforcement']\n",
        "'Creamos una lista denominada algorithm_type'\n",
        "algorithm_type = ['Regression', 'Classification','Regression or Classification','Game AI']\n",
        "'Agregamos un item a la lista algorithm, con el metodo append'\n",
        "algorithm.append('k-means')\n",
        "'Mostramos el contenido de la lista algorithm'\n",
        "print(algorithm)\n",
        "'Agregamos Unsupervised a la lista learning con el metodo append'\n",
        "learning.append('Unsupervised')\n",
        "'Mostramos lo agregado a la lista'\n",
        "print(learning)\n",
        "'Agregamos Clustering a la lista algorithm type'\n",
        "algorithm_type.append('Clustering')\n",
        "'Mostramos lo agregado a la lista'\n",
        "print(algorithm_type)\n",
        "'Creamos un diccionario vacío '\n",
        "machine_learning = {}\n",
        "'Creamos un nuevo item en el diccionario machine_learnig con la clave como algorithm y el valor de la lista algorithm'\n",
        "machine_learning['algorithm'] = algorithm\n",
        "print(machine_learning)\n",
        "'Creamos un nuevo item en machine learning con la clave como learning y los valores del la lista learning'\n",
        "machine_learning['learning'] = learning\n",
        "'Creamos un nuevo item en machine_learning con la clave como algorithm_type y el valor de la lista algorithm_type '\n",
        "machine_learning['algorithm_type'] = algorithm_type\n",
        "'Mostramos el contenido del diccionario con la nueva lista'\n",
        "print(machine_learning)\n",
        "'Borramos el item a3c de la clave usando el metodo remove '\n",
        "\n",
        "\n",
        "\n",
        "\n",
        "\n",
        "\n",
        "\n",
        "\n"
      ],
      "execution_count": null,
      "outputs": [
        {
          "output_type": "stream",
          "name": "stdout",
          "text": [
            "['Linear Regression', 'Logistic Regression', 'RandomForest', 'a3c', 'k-means']\n",
            "['Supervised', 'Supervised', 'Supervised', 'Reinforcement', 'Unsupervised']\n",
            "['Regression', 'Classification', 'Regression or Classification', 'Game AI', 'Clustering']\n",
            "{'algorithm': ['Linear Regression', 'Logistic Regression', 'RandomForest', 'a3c', 'k-means']}\n",
            "{'algorithm': ['Linear Regression', 'Logistic Regression', 'RandomForest', 'a3c', 'k-means'], 'learning': ['Supervised', 'Supervised', 'Supervised', 'Reinforcement', 'Unsupervised'], 'algorithm_type': ['Regression', 'Classification', 'Regression or Classification', 'Game AI', 'Clustering']}\n"
          ]
        }
      ]
    },
    {
      "cell_type": "code",
      "metadata": {
        "colab": {
          "base_uri": "https://localhost:8080/"
        },
        "id": "6mp-Q6hJ_ySD",
        "outputId": "9db70b82-fde6-4c32-8a5e-23e9e1701386"
      },
      "source": [
        "'Creamos una lista denominada algorithm' \n",
        "algorithm = ['Linear Regression','Logistic Regression','RandomForest','a3c']\n",
        "'Creamos una lista denominada learning'\n",
        "learning = ['Supervised', 'Supervised', 'Supervised','Reinforcement']\n",
        "'Creamos una lista denominada algorithm_type'\n",
        "algorithm_type = ['Regression', 'Classification','Regression or Classification','Game AI']\n",
        "'Agregamos un item a la lista algorithm, con el metodo append'\n",
        "algorithm.append('k-means')\n",
        "'Mostramos el contenido de la lista algorithm'\n",
        "print(algorithm)\n",
        "'Agregamos Unsupervised a la lista learning con el metodo append'\n",
        "learning.append('Unsupervised')\n",
        "'Mostramos lo agregado a la lista'\n",
        "print(learning)\n",
        "'Agregamos Clustering a la lista algorithm type'\n",
        "algorithm_type.append('Clustering')\n",
        "'Mostramos lo agregado a la lista'\n",
        "print(algorithm_type)\n",
        "'Creamos un diccionario vacío '\n",
        "machine_learning = {}\n",
        "'Creamos un nuevo item en el diccionario machine_learnig con la clave como algorithm y el valor de la lista algorithm'\n",
        "machine_learning['algorithm'] = algorithm\n",
        "print(machine_learning)\n",
        "'Creamos un nuevo item en machine learning con la clave como learning y los valores del la lista learning'\n",
        "machine_learning['learning'] = learning\n",
        "'Creamos un nuevo item en machine_learning con la clave como algorithm_type y el valor de la lista algorithm_type '\n",
        "machine_learning['algorithm_type'] = algorithm_type\n",
        "'Mostramos el contenido del diccionario con la nueva lista'\n",
        "print(machine_learning)\n",
        "'Borramos el item a3c de la clave usando el metodo remove '\n",
        "machine_learning['algorithm'].remove('a3c')\n",
        "'Mostramos el resultado '\n",
        "print(machine_learning['algorithm'])\n",
        "'Removemos el item Reinforcement de la clave learning con el metodo remove'\n",
        "machine_learning['learning'].remove('Reinforcement')\n",
        "'Removemos el item Game AI de la clave algorithm type con el metodo remove'\n",
        "machine_learning['algorithm_type'].remove('Game AI')\n",
        "'Mostramos el resultado '\n",
        "print(machine_learning)\n",
        "\n",
        "\n",
        "\n",
        "\n",
        "\n",
        "\n",
        "\n",
        "\n",
        "\n",
        "\n",
        "\n"
      ],
      "execution_count": null,
      "outputs": [
        {
          "output_type": "stream",
          "name": "stdout",
          "text": [
            "['Linear Regression', 'Logistic Regression', 'RandomForest', 'a3c', 'k-means']\n",
            "['Supervised', 'Supervised', 'Supervised', 'Reinforcement', 'Unsupervised']\n",
            "['Regression', 'Classification', 'Regression or Classification', 'Game AI', 'Clustering']\n",
            "{'algorithm': ['Linear Regression', 'Logistic Regression', 'RandomForest', 'a3c', 'k-means']}\n",
            "{'algorithm': ['Linear Regression', 'Logistic Regression', 'RandomForest', 'a3c', 'k-means'], 'learning': ['Supervised', 'Supervised', 'Supervised', 'Reinforcement', 'Unsupervised'], 'algorithm_type': ['Regression', 'Classification', 'Regression or Classification', 'Game AI', 'Clustering']}\n",
            "['Linear Regression', 'Logistic Regression', 'RandomForest', 'k-means']\n",
            "{'algorithm': ['Linear Regression', 'Logistic Regression', 'RandomForest', 'k-means'], 'learning': ['Supervised', 'Supervised', 'Supervised', 'Unsupervised'], 'algorithm_type': ['Regression', 'Classification', 'Regression or Classification', 'Clustering']}\n"
          ]
        }
      ]
    }
  ]
}